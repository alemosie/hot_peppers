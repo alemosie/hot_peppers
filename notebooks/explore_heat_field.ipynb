{
 "cells": [
  {
   "cell_type": "code",
   "execution_count": 1,
   "metadata": {
    "collapsed": false
   },
   "outputs": [],
   "source": [
    "import sys, os; sys.path.append(os.path.abspath(\"..\")) # call Py module from parent dir\n",
    "from fetch_data import FetchData\n",
    "import pandas as pd\n",
    "import pdb"
   ]
  },
  {
   "cell_type": "markdown",
   "metadata": {},
   "source": [
    "# Heat categorization\n",
    "\n",
    "##### Questions\n",
    "- What are the cutoff scores for each category?\n",
    "- Why is there no regular \"hot?\" Should there be?\n",
    "\n",
    "#### Load data"
   ]
  },
  {
   "cell_type": "code",
   "execution_count": 2,
   "metadata": {
    "collapsed": false
   },
   "outputs": [
    {
     "name": "stdout",
     "output_type": "stream",
     "text": [
      "122 peppers fetched!\n"
     ]
    }
   ],
   "source": [
    "fetcher = FetchData()\n",
    "data = fetcher.data"
   ]
  },
  {
   "cell_type": "code",
   "execution_count": 3,
   "metadata": {
    "collapsed": false
   },
   "outputs": [
    {
     "data": {
      "text/html": [
       "<div>\n",
       "<table border=\"1\" class=\"dataframe\">\n",
       "  <thead>\n",
       "    <tr style=\"text-align: right;\">\n",
       "      <th></th>\n",
       "      <th>name</th>\n",
       "      <th>species</th>\n",
       "      <th>heat</th>\n",
       "      <th>region</th>\n",
       "      <th>origin</th>\n",
       "      <th>min_shu</th>\n",
       "      <th>max_shu</th>\n",
       "      <th>min_jrp</th>\n",
       "      <th>max_jrp</th>\n",
       "      <th>link</th>\n",
       "    </tr>\n",
       "  </thead>\n",
       "  <tbody>\n",
       "    <tr>\n",
       "      <th>0</th>\n",
       "      <td>Bell Pepper</td>\n",
       "      <td>annuum</td>\n",
       "      <td>mild</td>\n",
       "      <td>Multi-Region</td>\n",
       "      <td>Mexico, South America</td>\n",
       "      <td>0.0</td>\n",
       "      <td>0</td>\n",
       "      <td>-8000</td>\n",
       "      <td>-2500</td>\n",
       "      <td>http://www.pepperscale.com/bell-pepper</td>\n",
       "    </tr>\n",
       "    <tr>\n",
       "      <th>1</th>\n",
       "      <td>Gypsy Pepper</td>\n",
       "      <td>annuum</td>\n",
       "      <td>mild</td>\n",
       "      <td>Multi-Region</td>\n",
       "      <td>United States</td>\n",
       "      <td>0.0</td>\n",
       "      <td>0</td>\n",
       "      <td>-8000</td>\n",
       "      <td>-2500</td>\n",
       "      <td>http://www.pepperscale.com/gypsy-pepper</td>\n",
       "    </tr>\n",
       "    <tr>\n",
       "      <th>2</th>\n",
       "      <td>Purple Beauty Pepper</td>\n",
       "      <td>annuum</td>\n",
       "      <td>mild</td>\n",
       "      <td>South America</td>\n",
       "      <td>South America</td>\n",
       "      <td>0.0</td>\n",
       "      <td>0</td>\n",
       "      <td>-8000</td>\n",
       "      <td>-2500</td>\n",
       "      <td>http://www.pepperscale.com/purple-beauty-pepper</td>\n",
       "    </tr>\n",
       "    <tr>\n",
       "      <th>3</th>\n",
       "      <td>Melrose Pepper</td>\n",
       "      <td>annuum</td>\n",
       "      <td>mild</td>\n",
       "      <td>Multi-Region</td>\n",
       "      <td>United States</td>\n",
       "      <td>0.0</td>\n",
       "      <td>0</td>\n",
       "      <td>-8000</td>\n",
       "      <td>-2500</td>\n",
       "      <td>http://www.pepperscale.com/melrose-pepper</td>\n",
       "    </tr>\n",
       "    <tr>\n",
       "      <th>4</th>\n",
       "      <td>Banana Pepper</td>\n",
       "      <td>annuum</td>\n",
       "      <td>mild</td>\n",
       "      <td>South America</td>\n",
       "      <td>South America</td>\n",
       "      <td>0.0</td>\n",
       "      <td>500</td>\n",
       "      <td>-8000</td>\n",
       "      <td>-5</td>\n",
       "      <td>http://www.pepperscale.com/banana-pepper</td>\n",
       "    </tr>\n",
       "  </tbody>\n",
       "</table>\n",
       "</div>"
      ],
      "text/plain": [
       "                   name species  heat         region                 origin  \\\n",
       "0           Bell Pepper  annuum  mild   Multi-Region  Mexico, South America   \n",
       "1          Gypsy Pepper  annuum  mild   Multi-Region          United States   \n",
       "2  Purple Beauty Pepper  annuum  mild  South America          South America   \n",
       "3        Melrose Pepper  annuum  mild   Multi-Region          United States   \n",
       "4        Banana Pepper   annuum  mild  South America          South America   \n",
       "\n",
       "   min_shu  max_shu  min_jrp  max_jrp  \\\n",
       "0      0.0        0    -8000    -2500   \n",
       "1      0.0        0    -8000    -2500   \n",
       "2      0.0        0    -8000    -2500   \n",
       "3      0.0        0    -8000    -2500   \n",
       "4      0.0      500    -8000       -5   \n",
       "\n",
       "                                              link  \n",
       "0           http://www.pepperscale.com/bell-pepper  \n",
       "1          http://www.pepperscale.com/gypsy-pepper  \n",
       "2  http://www.pepperscale.com/purple-beauty-pepper  \n",
       "3        http://www.pepperscale.com/melrose-pepper  \n",
       "4         http://www.pepperscale.com/banana-pepper  "
      ]
     },
     "execution_count": 3,
     "metadata": {},
     "output_type": "execute_result"
    }
   ],
   "source": [
    "data.head()"
   ]
  },
  {
   "cell_type": "markdown",
   "metadata": {
    "collapsed": true
   },
   "source": [
    "## Cutoff scores"
   ]
  }
 ],
 "metadata": {
  "anaconda-cloud": {},
  "kernelspec": {
   "display_name": "Python [Root]",
   "language": "python",
   "name": "Python [Root]"
  },
  "language_info": {
   "codemirror_mode": {
    "name": "ipython",
    "version": 2
   },
   "file_extension": ".py",
   "mimetype": "text/x-python",
   "name": "python",
   "nbconvert_exporter": "python",
   "pygments_lexer": "ipython2",
   "version": "2.7.12"
  }
 },
 "nbformat": 4,
 "nbformat_minor": 2
}
