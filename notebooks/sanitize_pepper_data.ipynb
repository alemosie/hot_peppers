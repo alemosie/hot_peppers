{
 "cells": [
  {
   "cell_type": "code",
   "execution_count": 3,
   "metadata": {
    "collapsed": false
   },
   "outputs": [],
   "source": [
    "import pandas as pd\n",
    "import re\n",
    "from fuzzywuzzy import fuzz\n",
    "import json\n",
    "from datetime import datetime\n",
    "from bs4 import BeautifulSoup\n",
    "import urllib\n",
    "\n",
    "import matplotlib.pyplot as plt\n",
    "%matplotlib inline\n",
    "\n",
    "SCHEMA =  [\n",
    "    \"name\", \"species\", \"heat\", \"region\", \"origin\", \"min_shu\", \"max_shu\",\n",
    "    \"min_jrp\", \"max_jrp\", \"link\", \"source_name\"\n",
    "]"
   ]
  },
  {
   "cell_type": "code",
   "execution_count": 2,
   "metadata": {
    "collapsed": false
   },
   "outputs": [
    {
     "data": {
      "text/html": [
       "<div>\n",
       "<table border=\"1\" class=\"dataframe\">\n",
       "  <thead>\n",
       "    <tr style=\"text-align: right;\">\n",
       "      <th></th>\n",
       "      <th>heat</th>\n",
       "      <th>link</th>\n",
       "      <th>max_jrp</th>\n",
       "      <th>max_shu</th>\n",
       "      <th>min_jrp</th>\n",
       "      <th>min_shu</th>\n",
       "      <th>name</th>\n",
       "      <th>origin</th>\n",
       "      <th>region</th>\n",
       "      <th>source_name</th>\n",
       "      <th>species</th>\n",
       "    </tr>\n",
       "  </thead>\n",
       "  <tbody>\n",
       "    <tr>\n",
       "      <th>93</th>\n",
       "      <td>extra hot</td>\n",
       "      <td>http://www.pepperscale.com/goat-pepper</td>\n",
       "      <td>140</td>\n",
       "      <td>350000</td>\n",
       "      <td>12</td>\n",
       "      <td>100000.0</td>\n",
       "      <td>Goat Pepper</td>\n",
       "      <td>Caribbean</td>\n",
       "      <td>Central America and the Caribbean</td>\n",
       "      <td>PepperScale</td>\n",
       "      <td>chinense</td>\n",
       "    </tr>\n",
       "    <tr>\n",
       "      <th>31</th>\n",
       "      <td>mild</td>\n",
       "      <td>http://www.pepperscale.com/chilaca-pepper</td>\n",
       "      <td>0</td>\n",
       "      <td>2500</td>\n",
       "      <td>-8</td>\n",
       "      <td>1000.0</td>\n",
       "      <td>Chilaca Pepper</td>\n",
       "      <td>Mexico</td>\n",
       "      <td>North America</td>\n",
       "      <td>PepperScale</td>\n",
       "      <td>annuum</td>\n",
       "    </tr>\n",
       "    <tr>\n",
       "      <th>23</th>\n",
       "      <td>mild</td>\n",
       "      <td>http://www.pepperscale.com/anaheim-pepper</td>\n",
       "      <td>0</td>\n",
       "      <td>2500</td>\n",
       "      <td>-16</td>\n",
       "      <td>500.0</td>\n",
       "      <td>Anaheim Pepper</td>\n",
       "      <td>Mexico</td>\n",
       "      <td>North America</td>\n",
       "      <td>PepperScale</td>\n",
       "      <td>annuum</td>\n",
       "    </tr>\n",
       "  </tbody>\n",
       "</table>\n",
       "</div>"
      ],
      "text/plain": [
       "         heat                                       link  max_jrp  max_shu  \\\n",
       "93  extra hot     http://www.pepperscale.com/goat-pepper      140   350000   \n",
       "31       mild  http://www.pepperscale.com/chilaca-pepper        0     2500   \n",
       "23       mild  http://www.pepperscale.com/anaheim-pepper        0     2500   \n",
       "\n",
       "    min_jrp   min_shu            name     origin  \\\n",
       "93       12  100000.0     Goat Pepper  Caribbean   \n",
       "31       -8    1000.0  Chilaca Pepper     Mexico   \n",
       "23      -16     500.0  Anaheim Pepper     Mexico   \n",
       "\n",
       "                               region  source_name   species  \n",
       "93  Central America and the Caribbean  PepperScale  chinense  \n",
       "31                      North America  PepperScale    annuum  \n",
       "23                      North America  PepperScale    annuum  "
      ]
     },
     "execution_count": 2,
     "metadata": {},
     "output_type": "execute_result"
    }
   ],
   "source": [
    "with open('../data/pepperscale_20171028.json') as json_data:\n",
    "    data = json.load(json_data)\n",
    "pepperscale = pd.DataFrame(data[\"peppers\"])\n",
    "pepperscale.sample(3)"
   ]
  },
  {
   "cell_type": "markdown",
   "metadata": {},
   "source": [
    "# Chiliworld"
   ]
  },
  {
   "cell_type": "code",
   "execution_count": 4,
   "metadata": {
    "collapsed": false
   },
   "outputs": [],
   "source": [
    "headers = {\n",
    "            \"user-agent\":\"Mozilla/5.0 (Macintosh; Intel Mac OS X 10_12_6) AppleWebKit/537.36(KHTML, like Gecko) Chrome/61.0.3163.100 Safari/537.36\"\n",
    "        }\n",
    "\n",
    "request = urllib.request.Request(\"https://www.chilliworld.com/factfile/scoville-scale#ChilliPepperScovilleScale\", \n",
    "                                 headers=headers)\n",
    "page_html = urllib.request.urlopen(request).read().decode('utf-8')"
   ]
  },
  {
   "cell_type": "code",
   "execution_count": 8,
   "metadata": {
    "collapsed": false
   },
   "outputs": [
    {
     "data": {
      "text/plain": [
       "44"
      ]
     },
     "execution_count": 8,
     "metadata": {},
     "output_type": "execute_result"
    }
   ],
   "source": [
    "chiliworld_html = BeautifulSoup(page_html, 'html.parser')\n",
    "len(chiliworld_html.find(id=\"ChilliPepperScovilleScale\").find_all(\"tr\"))"
   ]
  },
  {
   "cell_type": "code",
   "execution_count": null,
   "metadata": {
    "collapsed": false
   },
   "outputs": [],
   "source": [
    "import pdb\n",
    "chiliworld_html = BeautifulSoup(page_html, 'html.parser')\n",
    "\n",
    "def compare_pepper_to_pepperscale(pepper):\n",
    "    possibilities = []\n",
    "    for pepperscale_pepper in pepperscale[\"name\"].str.lower().str.replace(\"pepper\", \"\").str.replace(\"chile \", \"\"):\n",
    "        if fuzz.ratio(pepper, pepperscale_pepper) > 70:\n",
    "            possibilities.append(pepperscale_pepper)\n",
    "    return possibilities\n",
    "\n",
    "def sanitize_name(name):\n",
    "    if \"<b>\" not in str(name):\n",
    "        pepper_name = name.split(\"(\")[0].split(\",\")[0]\n",
    "        sanitized_pepper_name = pepper_name.lower().replace(\" pepper\", \"\").replace(\"the \", \"\")\n",
    "        return \" \".join([part.strip().capitalize() for part in sanitized_pepper_name.split()])\n",
    "    \n",
    "def sanitize_shu(shu):\n",
    "    return [int(val) for val in shu.replace(\" (reported) \", \"\").replace(\",\", \"\").split(\" - \")]\n",
    "\n",
    "def sanitize_location(name):\n",
    "    if name and \"<b>\" not in str(name):\n",
    "        location = name.split(\"(\")[1] if len(name.split(\"(\")) > 1 else None\n",
    "        if location and (\"Wales\" in location or \"England\" in location):\n",
    "            return \"United Kingdom\"\n",
    "        elif location and \"South Carolina\" in location:\n",
    "            return \"United States\"\n",
    "        elif location and \"Australia\" in location:\n",
    "            return \"Australia\"\n",
    "        return None\n",
    "\n",
    "def process_chiliworld_peppers(write=False):\n",
    "    peppers = []\n",
    "    \n",
    "    for row in chiliworld_html.find(id=\"ChilliPepperScovilleScale\").find_all(\"tr\"):\n",
    "        raw_shu, raw_name = [element.contents[0] for element in row.find_all(\"td\")]\n",
    "        name = sanitize_name(raw_name)\n",
    "        if name: # manual discard of sweet bell, since bell pepper in pepperscale\n",
    "            name = name + \" Pepper\"\n",
    "            location = sanitize_location(raw_name)\n",
    "            shu = sanitize_shu(raw_shu)\n",
    "            min_shu, max_shu = shu if len(shu) > 1 else [None, shu[0]]\n",
    "            source = \"ChiliWorld\"\n",
    "            link = \"https://www.chilliworld.com/factfile/scoville-scale#ChilliPepperScovilleScale\"\n",
    "            peppers.append([name, link, min_shu, max_shu, location])\n",
    "            \n",
    "    labels = [\"name\", \"link\", \"min_shu\", \"max_shu\", \"origin\"]\n",
    "    peppers = pd.DataFrame(peppers, columns=labels)\n",
    "        \n",
    "def process_chiliworld_peppers_compare(write=False):\n",
    "    new_peppers = []\n",
    "    for row in chiliworld_html.find(id=\"ChilliPepperScovilleScale\").find_all(\"tr\"):\n",
    "        raw_shu, raw_name = [element.contents[0] for element in row.find_all(\"td\")]\n",
    "        name = sanitize_name(raw_name)\n",
    "        if name and name != \"Sweet Bell\": # manual discard of sweet bell, since bell pepper in pepperscale\n",
    "            if len(compare_pepper_to_pepperscale(name)) == 0:\n",
    "                name = name + \" Pepper\"\n",
    "                location = sanitize_location(raw_name)\n",
    "                shu = sanitize_shu(raw_shu)\n",
    "                min_shu, max_shu = shu if len(shu) > 1 else [None, shu[0]]\n",
    "                source = \"ChiliWorld\"\n",
    "                link = \"https://www.chilliworld.com/factfile/scoville-scale#ChilliPepperScovilleScale\"\n",
    "                new_peppers.append([name, link, min_shu, max_shu, None, None, None, None, location])\n",
    "    labels = [\"name\", \"link\", \"min_shu\", \"max_shu\", \"min_jrp\", \"max_jrp\", \"heat\", \"species\", \"origin\"]\n",
    "    new_peppers = pd.DataFrame(new_peppers, columns=labels)\n",
    "    if write:\n",
    "        file_name = \"{}/chiliworld_{}.csv\".format(\"../data/\", str(datetime.now().date()).replace(\"-\",\"\"))\n",
    "        new_peppers.to_csv(file_name, index=False)"
   ]
  },
  {
   "cell_type": "code",
   "execution_count": null,
   "metadata": {
    "collapsed": false
   },
   "outputs": [],
   "source": [
    "pwd"
   ]
  },
  {
   "cell_type": "code",
   "execution_count": null,
   "metadata": {
    "collapsed": false
   },
   "outputs": [],
   "source": [
    "process_chiliworld_peppers(write=True)"
   ]
  },
  {
   "cell_type": "code",
   "execution_count": null,
   "metadata": {
    "collapsed": true
   },
   "outputs": [],
   "source": []
  }
 ],
 "metadata": {
  "kernelspec": {
   "display_name": "Python 3",
   "language": "python",
   "name": "python3"
  },
  "language_info": {
   "codemirror_mode": {
    "name": "ipython",
    "version": 3
   },
   "file_extension": ".py",
   "mimetype": "text/x-python",
   "name": "python",
   "nbconvert_exporter": "python",
   "pygments_lexer": "ipython3",
   "version": "3.5.2"
  }
 },
 "nbformat": 4,
 "nbformat_minor": 2
}
