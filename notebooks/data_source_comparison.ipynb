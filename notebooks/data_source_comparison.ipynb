{
 "cells": [
  {
   "cell_type": "code",
   "execution_count": 3,
   "metadata": {
    "collapsed": true
   },
   "outputs": [],
   "source": [
    "import pandas as pd\n",
    "import re\n",
    "from fuzzywuzzy import fuzz\n",
    "import json\n",
    "\n",
    "import matplotlib.pyplot as plt\n",
    "%matplotlib inline\n",
    "\n",
    "### STRIP PEPPERSCALE DATA"
   ]
  },
  {
   "cell_type": "code",
   "execution_count": 8,
   "metadata": {
    "collapsed": false
   },
   "outputs": [
    {
     "data": {
      "text/html": [
       "<div>\n",
       "<table border=\"1\" class=\"dataframe\">\n",
       "  <thead>\n",
       "    <tr style=\"text-align: right;\">\n",
       "      <th></th>\n",
       "      <th>heat</th>\n",
       "      <th>link</th>\n",
       "      <th>max_jrp</th>\n",
       "      <th>max_shu</th>\n",
       "      <th>min_jrp</th>\n",
       "      <th>min_shu</th>\n",
       "      <th>name</th>\n",
       "      <th>origin</th>\n",
       "      <th>region</th>\n",
       "      <th>species</th>\n",
       "    </tr>\n",
       "  </thead>\n",
       "  <tbody>\n",
       "    <tr>\n",
       "      <th>63</th>\n",
       "      <td>medium</td>\n",
       "      <td>http://www.pepperscale.com/japones-pepper</td>\n",
       "      <td>12</td>\n",
       "      <td>30000</td>\n",
       "      <td>2</td>\n",
       "      <td>15000.0</td>\n",
       "      <td>Japones Pepper</td>\n",
       "      <td>Japan</td>\n",
       "      <td>Asia</td>\n",
       "      <td>annuum</td>\n",
       "    </tr>\n",
       "    <tr>\n",
       "      <th>81</th>\n",
       "      <td>extra hot</td>\n",
       "      <td>http://www.pepperscale.com/thai-peppers</td>\n",
       "      <td>40</td>\n",
       "      <td>100000</td>\n",
       "      <td>6</td>\n",
       "      <td>50000.0</td>\n",
       "      <td>Thai Pepper</td>\n",
       "      <td>Thailand</td>\n",
       "      <td>Asia</td>\n",
       "      <td>annuum</td>\n",
       "    </tr>\n",
       "    <tr>\n",
       "      <th>100</th>\n",
       "      <td>super hot</td>\n",
       "      <td>http://www.pepperscale.com/chocolate-habanero</td>\n",
       "      <td>231</td>\n",
       "      <td>577000</td>\n",
       "      <td>53</td>\n",
       "      <td>425000.0</td>\n",
       "      <td>Chocolate Habanero</td>\n",
       "      <td>Jamaica</td>\n",
       "      <td>Central America and the Caribbean</td>\n",
       "      <td>chinense</td>\n",
       "    </tr>\n",
       "  </tbody>\n",
       "</table>\n",
       "</div>"
      ],
      "text/plain": [
       "          heat                                           link  max_jrp  \\\n",
       "63      medium      http://www.pepperscale.com/japones-pepper       12   \n",
       "81   extra hot        http://www.pepperscale.com/thai-peppers       40   \n",
       "100  super hot  http://www.pepperscale.com/chocolate-habanero      231   \n",
       "\n",
       "     max_shu  min_jrp   min_shu                name    origin  \\\n",
       "63     30000        2   15000.0      Japones Pepper     Japan   \n",
       "81    100000        6   50000.0         Thai Pepper  Thailand   \n",
       "100   577000       53  425000.0  Chocolate Habanero   Jamaica   \n",
       "\n",
       "                                region   species  \n",
       "63                                Asia    annuum  \n",
       "81                                Asia    annuum  \n",
       "100  Central America and the Caribbean  chinense  "
      ]
     },
     "execution_count": 8,
     "metadata": {},
     "output_type": "execute_result"
    }
   ],
   "source": [
    "with open('../data/peppers_20171013.json') as json_data:\n",
    "    data = json.load(json_data)\n",
    "pepperscale = pd.DataFrame(data[\"peppers\"])\n",
    "pepperscale.sample(3)"
   ]
  },
  {
   "cell_type": "markdown",
   "metadata": {},
   "source": [
    "# Chiliworld"
   ]
  },
  {
   "cell_type": "code",
   "execution_count": 7,
   "metadata": {
    "collapsed": true
   },
   "outputs": [],
   "source": [
    "import urllib2\n",
    "from bs4 import BeautifulSoup\n",
    "\n",
    "headers = {\n",
    "            \"user-agent\":\"Mozilla/5.0 (Macintosh; Intel Mac OS X 10_12_6) AppleWebKit/537.36(KHTML, like Gecko) Chrome/61.0.3163.100 Safari/537.36\"\n",
    "  f      }\n",
    "request = urllib2.Request(\"https://www.chilliworld.com/factfile/scoville-scale#ChilliPepperScovilleScale\", headers=headers)\n",
    "page_html = urllib2.urlopen(request).read()"
   ]
  },
  {
   "cell_type": "code",
   "execution_count": null,
   "metadata": {
    "collapsed": false
   },
   "outputs": [],
   "source": [
    "import pdb\n",
    "chiliworld_html = BeautifulSoup(page_html, 'html.parser')\n",
    "\n",
    "def compare_pepper_to_pepperscale(pepper):\n",
    "    possibilities = []\n",
    "    for pepperscale_pepper in pepperscale[\"name\"].str.lower().str.replace(\"pepper\", \"\").str.replace(\"chile \", \"\"):\n",
    "        if fuzz.ratio(pepper, pepperscale_pepper) > 70:\n",
    "            possibilities.append(pepperscale_pepper)\n",
    "    return possibilities\n",
    "\n",
    "def sanitize_name(name):\n",
    "    if \"<b>\" not in name.encode('utf-8'):\n",
    "        pepper_name = name.split(\"(\")[0].split(\",\")[0]\n",
    "        sanitized_pepper_name = pepper_name.lower().replace(\" pepper\", \"\").replace(\"the \", \"\")\n",
    "        return \" \".join([part.strip().capitalize() for part in sanitized_pepper_name.split()])\n",
    "    \n",
    "def sanitize_shu(shu):\n",
    "    return [int(val) for val in shu.replace(\" (reported) \", \"\").replace(\",\", \"\").split(\" - \")]\n",
    "\n",
    "def sanitize_location(name):\n",
    "    if name and \"<b>\" not in name.encode('utf-8'):\n",
    "        location = name.encode('utf-8').split(\"(\")[1] if len(name.encode('utf-8').split(\"(\")) > 1 else None\n",
    "        if location and (\"Wales\" in location or \"England\" in location):\n",
    "            return \"United Kingdom\"\n",
    "        elif location and \"South Carolina\" in location:\n",
    "            return \"United States\"\n",
    "        elif location and \"Australia\" in location:\n",
    "            return \"Australia\"\n",
    "        return None\n",
    "\n",
    "def process_peppers():\n",
    "    new_peppers = []\n",
    "    for row in chiliworld_html.find(id=\"ChilliPepperScovilleScale\").find_all(\"tr\"):\n",
    "        raw_shu, raw_name = [element.contents[0] for element in row.find_all(\"td\")]\n",
    "        name = sanitize_name(raw_name)\n",
    "        if name and name != \"Sweet Bell\": # manual discard of sweet bell, since bell pepper in pepperscale\n",
    "            if len(compare_pepper_to_pepperscale(name)) == 0:\n",
    "                name = name + \" Pepper\"\n",
    "                location = sanitize_location(raw_name)\n",
    "                shu = sanitize_shu(raw_shu)\n",
    "                min_shu, max_shu = shu if len(shu) > 1 else [None, shu[0]]\n",
    "                source = \"ChiliWorld\"\n",
    "                link = \"https://www.chilliworld.com/factfile/scoville-scale#ChilliPepperScovilleScale\"\n",
    "                new_peppers.append([name, link, min_shu, max_shu, None, None, None, location])\n",
    "    labels = [\"name\", \"link\", \"min_shu\", \"max_shu\", \"heat\", \"jrp\", \"species\", \"origin\"]\n",
    "    return pd.DataFrame(new_peppers, columns=labels)"
   ]
  },
  {
   "cell_type": "code",
   "execution_count": null,
   "metadata": {
    "collapsed": false
   },
   "outputs": [],
   "source": [
    "process_peppers()"
   ]
  },
  {
   "cell_type": "code",
   "execution_count": null,
   "metadata": {
    "collapsed": true
   },
   "outputs": [],
   "source": []
  }
 ],
 "metadata": {
  "kernelspec": {
   "display_name": "Python [Root]",
   "language": "python",
   "name": "Python [Root]"
  },
  "language_info": {
   "codemirror_mode": {
    "name": "ipython",
    "version": 2
   },
   "file_extension": ".py",
   "mimetype": "text/x-python",
   "name": "python",
   "nbconvert_exporter": "python",
   "pygments_lexer": "ipython2",
   "version": "2.7.12"
  }
 },
 "nbformat": 4,
 "nbformat_minor": 2
}
